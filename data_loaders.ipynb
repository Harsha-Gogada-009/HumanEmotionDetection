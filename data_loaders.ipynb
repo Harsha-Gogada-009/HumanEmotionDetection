{
 "cells": [
  {
   "cell_type": "code",
   "execution_count": null,
   "id": "5f154876-a4a3-4695-9f71-d4e76625bf94",
   "metadata": {},
   "outputs": [],
   "source": [
    "import os\n",
    "import pandas as pd\n",
    "import numpy as np\n",
    "from PIL import Image\n",
    "import torch\n",
    "import torchvision\n",
    "from torch.utils.data import Dataset, DataLoader\n",
    "from torchvision import transforms\n",
    "import matplotlib.pyplot as plt\n",
    "class Plain_Dataset(Dataset):\n",
    "    def __init__(self,csv_file,img_dir,datatype,transform):\n",
    "        '''\n",
    "        Pytorch Dataset class\n",
    "        params:-\n",
    "                 csv_file : the path of the csv file    (train, validation, test)\n",
    "                 img_dir  : the directory of the images (train, validation, test)\n",
    "                 datatype : string for searching along the image_dir (train, val, test)\n",
    "                 transform: pytorch transformation over the data\n",
    "        return :-\n",
    "                 image, labels\n",
    "        '''\n",
    "        self.csv_file = pd.read_csv(csv_file)\n",
    "        self.lables = self.csv_file['emotion']\n",
    "        self.img_dir = img_dir\n",
    "        self.transform = transform\n",
    "        self.datatype = datatype\n",
    "\n",
    "    def __len__(self):\n",
    "        return len(self.csv_file)\n",
    "\n",
    "    def __getitem__(self,idx):\n",
    "        if torch.is_tensor(idx):\n",
    "            idx = idx.tolist()\n",
    "        img = Image.open(self.img_dir+self.datatype+str(idx)+'.jpg')\n",
    "        lables = np.array(self.lables[idx])\n",
    "        lables = torch.from_numpy(lables).long()\n",
    "\n",
    "        if self.transform :\n",
    "            img = self.transform(img)\n",
    "        return img,lables\n",
    "\n",
    "#Helper function\n",
    "def eval_data_dataloader(csv_file,img_dir,datatype,sample_number,transform= None):\n",
    "    '''\n",
    "    Helper function used to evaluate the Dataset class\n",
    "    params:-\n",
    "            csv_file : the path of the csv file    (train, validation, test)\n",
    "            img_dir  : the directory of the images (train, validation, test)\n",
    "            datatype : string for searching along the image_dir (train, val, test)\n",
    "            sample_number : any number from the data to be shown\n",
    "    '''\n",
    "    if transform is None :\n",
    "        transform = transforms.Compose([transforms.ToTensor(),transforms.Normalize((0.5,),(0.5,))])\n",
    "    dataset = Plain_Dataset(csv_file=csv_file,img_dir = img_dir,datatype = datatype,transform = transform)\n",
    "\n",
    "    label = dataset.__getitem__(sample_number)[1]\n",
    "    print(label) \n",
    "    imgg = dataset.__getitem__(sample_number)[0]\n",
    "    imgnumpy = imgg.numpy()\n",
    "    imgt = imgnumpy.squeeze()\n",
    "    plt.imshow(imgt)\n",
    "    plt.show()"
   ]
  },
  {
   "cell_type": "code",
   "execution_count": null,
   "id": "0b99209f-cae6-455b-a261-5b6bd317edbc",
   "metadata": {},
   "outputs": [],
   "source": [
    "import os\n",
    "os.environ[\"KMP_DUPLICATE_LIB_OK\"] = \"True\" "
   ]
  },
  {
   "cell_type": "code",
   "execution_count": null,
   "id": "9d2f165b-58e6-4a8d-a18a-0726184ecf89",
   "metadata": {},
   "outputs": [],
   "source": [
    "csv_path = \"C:\\\\Users\\\\harsh\\\\Z\\\\ResearchPaper/train.csv\"\n",
    "img_directory = \"C:\\\\Users\\\\harsh\\\\Z\\\\ResearchPaper\\\\train\\\\\"\n",
    "datatype = \"train\"\n",
    "sample_index = 10  \n",
    "\n",
    "eval_data_dataloader(csv_path, img_directory, datatype, sample_index)\n"
   ]
  },
  {
   "cell_type": "code",
   "execution_count": null,
   "id": "264c5637-cdf4-4fbf-9b57-4360a9ba156a",
   "metadata": {},
   "outputs": [],
   "source": []
  }
 ],
 "metadata": {
  "kernelspec": {
   "display_name": "Python 3 (ipykernel)",
   "language": "python",
   "name": "python3"
  },
  "language_info": {
   "codemirror_mode": {
    "name": "ipython",
    "version": 3
   },
   "file_extension": ".py",
   "mimetype": "text/x-python",
   "name": "python",
   "nbconvert_exporter": "python",
   "pygments_lexer": "ipython3",
   "version": "3.12.4"
  }
 },
 "nbformat": 4,
 "nbformat_minor": 5
}
