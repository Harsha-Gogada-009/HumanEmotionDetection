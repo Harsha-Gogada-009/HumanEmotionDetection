{
 "cells": [
  {
   "cell_type": "code",
   "execution_count": 39,
   "id": "2aca1b4d-4f5b-4d1a-864a-57a80a015af2",
   "metadata": {},
   "outputs": [
    {
     "name": "stdout",
     "output_type": "stream",
     "text": [
      "Collecting ipynb\n",
      "  Downloading ipynb-0.5.1-py3-none-any.whl.metadata (303 bytes)\n",
      "Downloading ipynb-0.5.1-py3-none-any.whl (6.9 kB)\n",
      "Installing collected packages: ipynb\n",
      "Successfully installed ipynb-0.5.1\n"
     ]
    }
   ],
   "source": [
    "!pip install ipynb"
   ]
  },
  {
   "cell_type": "code",
   "execution_count": 41,
   "id": "a7cc8a19-76de-4c01-bc75-f788a4fbfda3",
   "metadata": {},
   "outputs": [
    {
     "name": "stdout",
     "output_type": "stream",
     "text": [
      "tensor(3)\n"
     ]
    },
    {
     "data": {
      "image/png": "[encoded data removed]",
      "text/plain": [
       "<Figure size 640x480 with 1 Axes>"
      ]
     },
     "metadata": {},
     "output_type": "display_data"
    }
   ],
   "source": [
    "from ipynb.fs.full.data_loaders import Plain_Dataset, eval_data_dataloader\n",
    "from ipynb.fs.full.deep_emotion import Deep_Emotion"
   ]
  },
  {
   "cell_type": "code",
   "execution_count": 43,
   "id": "068c488e-35fa-4a34-930a-d2e6532592b9",
   "metadata": {},
   "outputs": [],
   "source": [
    "import torch\n",
    "import torch.optim as optim\n",
    "import torch.nn as nn\n",
    "import torchvision.transforms as transforms\n",
    "from torch.utils.data import DataLoader"
   ]
  },
  {
   "cell_type": "code",
   "execution_count": 53,
   "id": "426e0616-d0f5-4991-b2fe-cc4b7e8944df",
   "metadata": {},
   "outputs": [
    {
     "name": "stdout",
     "output_type": "stream",
     "text": [
      "Epoch [1/50], Loss: 1.6923\n",
      "Epoch [2/50], Loss: 1.5559\n",
      "Epoch [3/50], Loss: 1.4804\n",
      "Epoch [4/50], Loss: 1.4217\n",
      "Epoch [5/50], Loss: 1.3799\n",
      "Epoch [6/50], Loss: 1.3509\n",
      "Epoch [7/50], Loss: 1.3279\n",
      "Epoch [8/50], Loss: 1.3045\n",
      "Epoch [9/50], Loss: 1.2910\n",
      "Epoch [10/50], Loss: 1.2765\n",
      "Epoch [11/50], Loss: 1.2618\n",
      "Epoch [12/50], Loss: 1.2476\n",
      "Epoch [13/50], Loss: 1.2516\n",
      "Epoch [14/50], Loss: 1.2297\n",
      "Epoch [15/50], Loss: 1.2259\n",
      "Epoch [16/50], Loss: 1.2164\n",
      "Epoch [17/50], Loss: 1.2109\n",
      "Epoch [18/50], Loss: 1.2075\n",
      "Epoch [19/50], Loss: 1.2053\n",
      "Epoch [20/50], Loss: 1.1869\n",
      "Epoch [21/50], Loss: 1.1884\n",
      "Epoch [22/50], Loss: 1.1830\n",
      "Epoch [23/50], Loss: 1.1805\n",
      "Epoch [24/50], Loss: 1.1831\n",
      "Epoch [25/50], Loss: 1.1692\n",
      "Epoch [26/50], Loss: 1.1629\n",
      "Epoch [27/50], Loss: 1.1626\n",
      "Epoch [28/50], Loss: 1.1491\n",
      "Epoch [29/50], Loss: 1.1526\n",
      "Epoch [30/50], Loss: 1.1450\n",
      "Epoch [31/50], Loss: 1.1463\n",
      "Epoch [32/50], Loss: 1.1404\n",
      "Epoch [33/50], Loss: 1.1361\n",
      "Epoch [34/50], Loss: 1.1319\n",
      "Epoch [35/50], Loss: 1.1364\n",
      "Epoch [36/50], Loss: 1.1296\n",
      "Epoch [37/50], Loss: 1.1273\n",
      "Epoch [38/50], Loss: 1.1311\n",
      "Epoch [39/50], Loss: 1.1240\n",
      "Epoch [40/50], Loss: 1.1183\n",
      "Epoch [41/50], Loss: 1.1206\n",
      "Epoch [42/50], Loss: 1.1186\n",
      "Epoch [43/50], Loss: 1.1091\n",
      "Epoch [44/50], Loss: 1.1036\n",
      "Epoch [45/50], Loss: 1.0948\n",
      "Epoch [46/50], Loss: 1.1075\n",
      "Epoch [47/50], Loss: 1.1019\n",
      "Epoch [48/50], Loss: 1.0906\n",
      "Epoch [49/50], Loss: 1.0980\n",
      "Epoch [50/50], Loss: 1.0944\n",
      "Model training complete and saved!\n"
     ]
    }
   ],
   "source": [
    "transform = transforms.Compose([\n",
    "    transforms.Grayscale(),\n",
    "    transforms.ToTensor(),\n",
    "    transforms.Normalize((0.5,) , (0.5,))\n",
    "])\n",
    "\n",
    "train_csv = \"C:\\\\Users\\\\harsh\\\\Z\\\\ResearchPaper/train.csv\"\n",
    "val_csv = \"C:\\\\Users\\\\harsh\\\\Z\\\\ResearchPaper/val.csv\"\n",
    "train_img_dir = \"C:\\\\Users\\\\harsh\\\\Z\\\\ResearchPaper/train/\"\n",
    "val_img_dir = \"C:\\\\Users\\\\harsh\\\\Z\\\\ResearchPaper/val/\"\n",
    "\n",
    "train_dataset = Plain_Dataset(csv_file=train_csv, img_dir=train_img_dir, datatype=\"train\", transform=transform)\n",
    "val_dataset = Plain_Dataset(csv_file=val_csv, img_dir=val_img_dir, datatype=\"val\", transform=transform)\n",
    "\n",
    "# Create DataLoaders\n",
    "train_loader = DataLoader(train_dataset, batch_size=64, shuffle=True)\n",
    "val_loader = DataLoader(val_dataset, batch_size=64, shuffle=False)\n",
    "\n",
    "# Initialize model\n",
    "device = torch.device(\"cuda\" if torch.cuda.is_available() else \"cpu\")\n",
    "model = Deep_Emotion().to(device)\n",
    "\n",
    "\n",
    "criterion = nn.CrossEntropyLoss()\n",
    "optimizer = optim.Adam(model.parameters() , lr = 0.001)\n",
    "\n",
    "# Training loop\n",
    "num_epochs = 50\n",
    "for epoch in range(num_epochs):\n",
    "    model.train()\n",
    "    running_loss = 0.0\n",
    "\n",
    "    for images, labels in train_loader:\n",
    "        images, labels = images.to(device), labels.to(device)\n",
    "\n",
    "        optimizer.zero_grad()\n",
    "        outputs = model(images)\n",
    "        loss = criterion(outputs, labels)\n",
    "        loss.backward()\n",
    "        optimizer.step()\n",
    "\n",
    "        running_loss += loss.item()\n",
    "\n",
    "    print(f\"Epoch [{epoch+1}/{num_epochs}], Loss: {running_loss / len(train_loader):.4f}\")\n",
    "\n",
    "# Save the trained model\n",
    "torch.save(model.state_dict(), \"deep_emotion_model.pth\")\n",
    "print(\"Model training complete and saved!\")"
   ]
  },
  {
   "cell_type": "code",
   "execution_count": 55,
   "id": "c6e71158-0193-4be0-96d8-1351dc910179",
   "metadata": {},
   "outputs": [
    {
     "name": "stdout",
     "output_type": "stream",
     "text": [
      "Validation Accuracy: 51.63%\n"
     ]
    }
   ],
   "source": [
    "# Load trained model\n",
    "model.load_state_dict(torch.load(\"deep_emotion_model.pth\"))\n",
    "model.eval()\n",
    "\n",
    "correct = 0\n",
    "total = 0\n",
    "\n",
    "with torch.no_grad():\n",
    "    for images, labels in val_loader:\n",
    "        images, labels = images.to(device), labels.to(device)\n",
    "        outputs = model(images)\n",
    "        _, predicted = torch.max(outputs, 1)\n",
    "        total += labels.size(0)\n",
    "        correct += (predicted == labels).sum().item()\n",
    "\n",
    "accuracy = 100 * correct / total\n",
    "print(f\"Validation Accuracy: {accuracy:.2f}%\")\n"
   ]
  },
  {
   "cell_type": "code",
   "execution_count": null,
   "id": "534f27cf-ad56-438d-9847-d6c718a2ccbd",
   "metadata": {},
   "outputs": [],
   "source": []
  }
 ],
 "metadata": {
  "kernelspec": {
   "display_name": "Python 3 (ipykernel)",
   "language": "python",
   "name": "python3"
  },
  "language_info": {
   "codemirror_mode": {
    "name": "ipython",
    "version": 3
   },
   "file_extension": ".py",
   "mimetype": "text/x-python",
   "name": "python",
   "nbconvert_exporter": "python",
   "pygments_lexer": "ipython3",
   "version": "3.12.4"
  }
 },
 "nbformat": 4,
 "nbformat_minor": 5
}
